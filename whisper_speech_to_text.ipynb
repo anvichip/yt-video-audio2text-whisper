{
  "nbformat": 4,
  "nbformat_minor": 0,
  "metadata": {
    "colab": {
      "provenance": [],
      "gpuType": "T4",
      "authorship_tag": "ABX9TyOE9acOUqlK9GQR8RhpFPYa",
      "include_colab_link": true
    },
    "kernelspec": {
      "name": "python3",
      "display_name": "Python 3"
    },
    "language_info": {
      "name": "python"
    },
    "accelerator": "GPU"
  },
  "cells": [
    {
      "cell_type": "markdown",
      "metadata": {
        "id": "view-in-github",
        "colab_type": "text"
      },
      "source": [
        "<a href=\"https://colab.research.google.com/github/anvichip/yt-video-audio2text-whisper/blob/main/whisper_speech_to_text.ipynb\" target=\"_parent\"><img src=\"https://colab.research.google.com/assets/colab-badge.svg\" alt=\"Open In Colab\"/></a>"
      ]
    },
    {
      "cell_type": "markdown",
      "source": [
        "Installing Libraries"
      ],
      "metadata": {
        "id": "8JlpcfFgnytu"
      }
    },
    {
      "cell_type": "code",
      "execution_count": 1,
      "metadata": {
        "colab": {
          "base_uri": "https://localhost:8080/"
        },
        "id": "7NbcAEU6J7OT",
        "outputId": "471ca6b1-2c59-4b41-cb20-a4f8d8fd6641"
      },
      "outputs": [
        {
          "output_type": "stream",
          "name": "stdout",
          "text": [
            "  Installing build dependencies ... \u001b[?25l\u001b[?25hdone\n",
            "  Getting requirements to build wheel ... \u001b[?25l\u001b[?25hdone\n",
            "  Preparing metadata (pyproject.toml) ... \u001b[?25l\u001b[?25hdone\n",
            "\u001b[2K     \u001b[90m━━━━━━━━━━━━━━━━━━━━━━━━━━━━━━━━━━━━━━━━\u001b[0m \u001b[32m1.7/1.7 MB\u001b[0m \u001b[31m11.6 MB/s\u001b[0m eta \u001b[36m0:00:00\u001b[0m\n",
            "\u001b[?25h  Building wheel for openai-whisper (pyproject.toml) ... \u001b[?25l\u001b[?25hdone\n"
          ]
        }
      ],
      "source": [
        "!pip -qqq install git+https://github.com/openai/whisper.git"
      ]
    },
    {
      "cell_type": "code",
      "source": [
        "# Install the library\n",
        "!pip -qqq install pytube\n",
        "\n",
        "# import the module\n",
        "from pytube import YouTube"
      ],
      "metadata": {
        "colab": {
          "base_uri": "https://localhost:8080/"
        },
        "id": "je5rniKaKgwC",
        "outputId": "84a9b22d-23cd-43ac-a703-899c352b8b55"
      },
      "execution_count": 2,
      "outputs": [
        {
          "output_type": "stream",
          "name": "stdout",
          "text": [
            "\u001b[?25l     \u001b[90m━━━━━━━━━━━━━━━━━━━━━━━━━━━━━━━━━━━━━━━━\u001b[0m \u001b[32m0.0/57.6 kB\u001b[0m \u001b[31m?\u001b[0m eta \u001b[36m-:--:--\u001b[0m\r\u001b[2K     \u001b[90m━━━━━━━━━━━━━━━━━━━━━━━━━━━━━━━━━━━━━━━━\u001b[0m \u001b[32m57.6/57.6 kB\u001b[0m \u001b[31m2.0 MB/s\u001b[0m eta \u001b[36m0:00:00\u001b[0m\n",
            "\u001b[?25h"
          ]
        }
      ]
    },
    {
      "cell_type": "markdown",
      "source": [
        "Loading Whisper Model"
      ],
      "metadata": {
        "id": "gXoXCv72n_Bi"
      }
    },
    {
      "cell_type": "code",
      "source": [
        "# Import the libraries\n",
        "import whisper\n",
        "import torch\n",
        "import os\n",
        "\n",
        "# Set the device\n",
        "device = \"cuda\" if torch.cuda.is_available() else \"cpu\"\n",
        "\n",
        "# Load the model\n",
        "whisper_model = whisper.load_model(\"large\", device=device)"
      ],
      "metadata": {
        "colab": {
          "base_uri": "https://localhost:8080/"
        },
        "id": "wBb9-1HxKMGe",
        "outputId": "b998da2d-2660-4e9c-a0c5-17845b4bb46f"
      },
      "execution_count": 3,
      "outputs": [
        {
          "output_type": "stream",
          "name": "stderr",
          "text": [
            "100%|█████████████████████████████████████| 2.87G/2.87G [00:33<00:00, 93.5MiB/s]\n"
          ]
        }
      ]
    },
    {
      "cell_type": "markdown",
      "source": [
        "Function to get audio from youtube video"
      ],
      "metadata": {
        "id": "ztybW6H0oB9h"
      }
    },
    {
      "cell_type": "code",
      "source": [
        "def video_to_audio(video_URL, destination, final_filename):\n",
        "\n",
        "  # Get the video\n",
        "  video = YouTube(video_URL)\n",
        "\n",
        "  # Convert video to Audio\n",
        "  audio = video.streams.filter(only_audio=True).first()\n",
        "\n",
        "  # Save to destination\n",
        "  output = audio.download(output_path = destination)\n",
        "\n",
        "  _, ext = os.path.splitext(output)\n",
        "  new_file = final_filename + '.mp3'\n",
        "\n",
        "  # Change the name of the file\n",
        "  os.rename(output, new_file)"
      ],
      "metadata": {
        "id": "5P0i98TWKpFt"
      },
      "execution_count": 4,
      "outputs": []
    },
    {
      "cell_type": "code",
      "source": [
        "def convert(url):\n",
        "  # Video to audio\n",
        "  video_URL = url\n",
        "  destination = \".\"\n",
        "  final_filename = \"audio_file_to_convert\"\n",
        "  video_to_audio(video_URL, destination, final_filename)\n"
      ],
      "metadata": {
        "id": "5a-2tfOaQPhN"
      },
      "execution_count": 5,
      "outputs": []
    },
    {
      "cell_type": "markdown",
      "source": [
        "Function to convert extracted text into desired format with timestamps"
      ],
      "metadata": {
        "id": "9XyAIOt3rGJ7"
      }
    },
    {
      "cell_type": "code",
      "source": [
        "def format_segments(result_segments):\n",
        "    formatted_output = []\n",
        "\n",
        "    for segment in result_segments:\n",
        "        start_time = segment['start']\n",
        "        end_time = segment['end']\n",
        "        text = segment['text']\n",
        "\n",
        "        formatted_text = f\"[{format_time_milliseconds(start_time)} --> {format_time_milliseconds(end_time)}] {text}\"\n",
        "        formatted_output.append(formatted_text)\n",
        "\n",
        "    return \"\\n\".join(formatted_output)\n",
        "\n",
        "def format_time_milliseconds(seconds):\n",
        "    minutes, seconds = divmod(seconds, 60)\n",
        "    hours, minutes = divmod(minutes, 60)\n",
        "    milliseconds = int((seconds - int(seconds)) * 1000)\n",
        "    return f\"{int(hours):01}:{int(minutes):01}:{int(seconds):02}.{milliseconds:03}\"\n",
        "\n",
        "\n",
        "# formatted_result3 = format_segments(result_segments)\n",
        "# print(formatted_result3)\n"
      ],
      "metadata": {
        "id": "abyJulfLpok7"
      },
      "execution_count": 18,
      "outputs": []
    },
    {
      "cell_type": "code",
      "source": [
        "def transcribe():\n",
        "  audio_file = \"audio_file_to_convert.mp3\"\n",
        "  result = whisper_model.transcribe(audio_file)\n",
        "  result_segments = result['segments']\n",
        "  print(result_segments)\n",
        "  return format_segments(result_segments)"
      ],
      "metadata": {
        "id": "VfWkvJcnpQQ1"
      },
      "execution_count": 28,
      "outputs": []
    },
    {
      "cell_type": "markdown",
      "source": [
        "Function to save formatted text into a txt file"
      ],
      "metadata": {
        "id": "XDJ2xSH2zpo-"
      }
    },
    {
      "cell_type": "code",
      "source": [
        "# Save the formatted result to a text file\n",
        "def dump_into_txt(formatted_result):\n",
        "  output_file_path = 'transcribed_text.txt'\n",
        "  with open(output_file_path, 'w') as output_file:\n",
        "    output_file.write(formatted_result)\n",
        "  print(f\"Formatted result saved to {output_file_path}\")\n"
      ],
      "metadata": {
        "id": "ethD03yYtcMy"
      },
      "execution_count": 29,
      "outputs": []
    },
    {
      "cell_type": "markdown",
      "source": [
        "Main Function to Run"
      ],
      "metadata": {
        "id": "hwXohy8qtbql"
      }
    },
    {
      "cell_type": "code",
      "source": [
        "def main():\n",
        "  url = input(\"Enter Link of Youtube Video to be converted: \")\n",
        "  convert(url)\n",
        "  formatted = transcribe()\n",
        "  dump_into_txt(formatted)"
      ],
      "metadata": {
        "id": "F9PsN8TSsjZS"
      },
      "execution_count": 30,
      "outputs": []
    },
    {
      "cell_type": "code",
      "source": [
        "main()"
      ],
      "metadata": {
        "colab": {
          "base_uri": "https://localhost:8080/"
        },
        "id": "gPy7F4SFt1xs",
        "outputId": "4a098fd7-01d1-414c-f993-c13f38f2bc37"
      },
      "execution_count": 31,
      "outputs": [
        {
          "output_type": "stream",
          "name": "stdout",
          "text": [
            "Enter Link of Youtube Video to be converted: https://www.youtube.com/watch?v=8SQV-B83tPU\n",
            "[{'id': 0, 'seek': 0, 'start': 0.0, 'end': 7.5200000000000005, 'text': \" Hi everyone, Kevin here. Today we're going to look at how you can take speech and turn it into text\", 'tokens': [50364, 2421, 1518, 11, 9954, 510, 13, 2692, 321, 434, 516, 281, 574, 412, 577, 291, 393, 747, 6218, 293, 1261, 309, 666, 2487, 50740], 'temperature': 0.0, 'avg_logprob': -0.2325758934020996, 'compression_ratio': 1.518987341772152, 'no_speech_prob': 0.09122688323259354}, {'id': 1, 'seek': 0, 'start': 8.08, 'end': 14.32, 'text': ' using AI. And the really crazy thing is that it does a better job than most humans.', 'tokens': [50768, 1228, 7318, 13, 400, 264, 534, 3219, 551, 307, 300, 309, 775, 257, 1101, 1691, 813, 881, 6255, 13, 51080], 'temperature': 0.0, 'avg_logprob': -0.2325758934020996, 'compression_ratio': 1.518987341772152, 'no_speech_prob': 0.09122688323259354}, {'id': 2, 'seek': 0, 'start': 15.44, 'end': 20.96, 'text': ' You can use it with English and 96 other languages. It works even if you have a lot', 'tokens': [51136, 509, 393, 764, 309, 365, 3669, 293, 24124, 661, 8650, 13, 467, 1985, 754, 498, 291, 362, 257, 688, 51412], 'temperature': 0.0, 'avg_logprob': -0.2325758934020996, 'compression_ratio': 1.518987341772152, 'no_speech_prob': 0.09122688323259354}, {'id': 3, 'seek': 0, 'start': 20.96, 'end': 29.28, 'text': ' of background noise. Und it also works if you have a very sick accent. The best part is that', 'tokens': [51412, 295, 3678, 5658, 13, 2719, 309, 611, 1985, 498, 291, 362, 257, 588, 4998, 11982, 13, 440, 1151, 644, 307, 300, 51828], 'temperature': 0.0, 'avg_logprob': -0.2325758934020996, 'compression_ratio': 1.518987341772152, 'no_speech_prob': 0.09122688323259354}, {'id': 4, 'seek': 2928, 'start': 29.28, 'end': 36.08, 'text': \" it's completely free and also open source. Let's check out how to do this. We're going to use an\", 'tokens': [50364, 309, 311, 2584, 1737, 293, 611, 1269, 4009, 13, 961, 311, 1520, 484, 577, 281, 360, 341, 13, 492, 434, 516, 281, 764, 364, 50704], 'temperature': 0.0, 'avg_logprob': -0.21085268020629883, 'compression_ratio': 1.5691056910569106, 'no_speech_prob': 0.005300023593008518}, {'id': 5, 'seek': 2928, 'start': 36.08, 'end': 43.760000000000005, 'text': ' AI tool called Whisper. Whisper is made by a company called OpenAI and you might have heard', 'tokens': [50704, 7318, 2290, 1219, 41132, 610, 13, 41132, 610, 307, 1027, 538, 257, 2237, 1219, 7238, 48698, 293, 291, 1062, 362, 2198, 51088], 'temperature': 0.0, 'avg_logprob': -0.21085268020629883, 'compression_ratio': 1.5691056910569106, 'no_speech_prob': 0.005300023593008518}, {'id': 6, 'seek': 2928, 'start': 43.760000000000005, 'end': 50.88, 'text': \" of them before. That's the same company behind the immensely popular ChatGPT, which allows you to\", 'tokens': [51088, 295, 552, 949, 13, 663, 311, 264, 912, 2237, 2261, 264, 38674, 3743, 27503, 38, 47, 51, 11, 597, 4045, 291, 281, 51444], 'temperature': 0.0, 'avg_logprob': -0.21085268020629883, 'compression_ratio': 1.5691056910569106, 'no_speech_prob': 0.005300023593008518}, {'id': 7, 'seek': 2928, 'start': 50.88, 'end': 57.52, 'text': \" converse with a computer. They're also the company behind DALI too, where you can type in some text\", 'tokens': [51444, 416, 4308, 365, 257, 3820, 13, 814, 434, 611, 264, 2237, 2261, 413, 11566, 886, 11, 689, 291, 393, 2010, 294, 512, 2487, 51776], 'temperature': 0.0, 'avg_logprob': -0.21085268020629883, 'compression_ratio': 1.5691056910569106, 'no_speech_prob': 0.005300023593008518}, {'id': 8, 'seek': 5752, 'start': 57.52, 'end': 63.68000000000001, 'text': \" and then it'll generate an image based on that text. You can install Whisper directly on your\", 'tokens': [50364, 293, 550, 309, 603, 8460, 364, 3256, 2361, 322, 300, 2487, 13, 509, 393, 3625, 41132, 610, 3838, 322, 428, 50672], 'temperature': 0.0, 'avg_logprob': -0.20525751943173615, 'compression_ratio': 1.610878661087866, 'no_speech_prob': 0.0010322117013856769}, {'id': 9, 'seek': 5752, 'start': 63.68000000000001, 'end': 68.88, 'text': ' computer. You can click on the link right up above, but you do need a somewhat capable computer.', 'tokens': [50672, 3820, 13, 509, 393, 2052, 322, 264, 2113, 558, 493, 3673, 11, 457, 291, 360, 643, 257, 8344, 8189, 3820, 13, 50932], 'temperature': 0.0, 'avg_logprob': -0.20525751943173615, 'compression_ratio': 1.610878661087866, 'no_speech_prob': 0.0010322117013856769}, {'id': 10, 'seek': 5752, 'start': 69.52000000000001, 'end': 75.52000000000001, 'text': \" So instead we're going to use something called Google Collaboratory. This allows you to run code\", 'tokens': [50964, 407, 2602, 321, 434, 516, 281, 764, 746, 1219, 3329, 44483, 4745, 13, 639, 4045, 291, 281, 1190, 3089, 51264], 'temperature': 0.0, 'avg_logprob': -0.20525751943173615, 'compression_ratio': 1.610878661087866, 'no_speech_prob': 0.0010322117013856769}, {'id': 11, 'seek': 5752, 'start': 75.52000000000001, 'end': 81.52000000000001, 'text': \" directly in your web browser, so it doesn't really matter what type of PC you have. To use Google\", 'tokens': [51264, 3838, 294, 428, 3670, 11185, 11, 370, 309, 1177, 380, 534, 1871, 437, 2010, 295, 6465, 291, 362, 13, 1407, 764, 3329, 51564], 'temperature': 0.0, 'avg_logprob': -0.20525751943173615, 'compression_ratio': 1.610878661087866, 'no_speech_prob': 0.0010322117013856769}, {'id': 12, 'seek': 8152, 'start': 81.52, 'end': 87.75999999999999, 'text': \" Collaboratory, head to Google Drive. You can click on the link right up above. You'll need a Google\", 'tokens': [50364, 44483, 4745, 11, 1378, 281, 3329, 15622, 13, 509, 393, 2052, 322, 264, 2113, 558, 493, 3673, 13, 509, 603, 643, 257, 3329, 50676], 'temperature': 0.0, 'avg_logprob': -0.19434443059957252, 'compression_ratio': 1.7456140350877194, 'no_speech_prob': 0.2941518723964691}, {'id': 13, 'seek': 8152, 'start': 87.75999999999999, 'end': 94.47999999999999, 'text': \" account and if you don't have one yet, it's entirely free to set up. On Google Drive, in the top left\", 'tokens': [50676, 2696, 293, 498, 291, 500, 380, 362, 472, 1939, 11, 309, 311, 7696, 1737, 281, 992, 493, 13, 1282, 3329, 15622, 11, 294, 264, 1192, 1411, 51012], 'temperature': 0.0, 'avg_logprob': -0.19434443059957252, 'compression_ratio': 1.7456140350877194, 'no_speech_prob': 0.2941518723964691}, {'id': 14, 'seek': 8152, 'start': 94.47999999999999, 'end': 99.92, 'text': \" hand corner, let's click on the new button. And at the very bottom, let's click on more and then go\", 'tokens': [51012, 1011, 4538, 11, 718, 311, 2052, 322, 264, 777, 2960, 13, 400, 412, 264, 588, 2767, 11, 718, 311, 2052, 322, 544, 293, 550, 352, 51284], 'temperature': 0.0, 'avg_logprob': -0.19434443059957252, 'compression_ratio': 1.7456140350877194, 'no_speech_prob': 0.2941518723964691}, {'id': 15, 'seek': 8152, 'start': 99.92, 'end': 105.92, 'text': \" down to connect more apps. At the top of this dialog, let's click into the search field and here\", 'tokens': [51284, 760, 281, 1745, 544, 7733, 13, 1711, 264, 1192, 295, 341, 19308, 11, 718, 311, 2052, 666, 264, 3164, 2519, 293, 510, 51584], 'temperature': 0.0, 'avg_logprob': -0.19434443059957252, 'compression_ratio': 1.7456140350877194, 'no_speech_prob': 0.2941518723964691}, {'id': 16, 'seek': 10592, 'start': 105.92, 'end': 112.24000000000001, 'text': \" type in Google Collaboratory and then search. Here we see this result for Collaboratory. Let's click\", 'tokens': [50364, 2010, 294, 3329, 44483, 4745, 293, 550, 3164, 13, 1692, 321, 536, 341, 1874, 337, 44483, 4745, 13, 961, 311, 2052, 50680], 'temperature': 0.0, 'avg_logprob': -0.18593348134862314, 'compression_ratio': 1.8842592592592593, 'no_speech_prob': 0.1311645209789276}, {'id': 17, 'seek': 10592, 'start': 112.24000000000001, 'end': 118.96000000000001, 'text': \" on that and here let's click on install. Next, let's click on continue. Next, you should see a message\", 'tokens': [50680, 322, 300, 293, 510, 718, 311, 2052, 322, 3625, 13, 3087, 11, 718, 311, 2052, 322, 2354, 13, 3087, 11, 291, 820, 536, 257, 3636, 51016], 'temperature': 0.0, 'avg_logprob': -0.18593348134862314, 'compression_ratio': 1.8842592592592593, 'no_speech_prob': 0.1311645209789276}, {'id': 18, 'seek': 10592, 'start': 118.96000000000001, 'end': 124.96000000000001, 'text': \" saying that Google Collaboratory was connected to Google Drive. Let's click on okay and look at that.\", 'tokens': [51016, 1566, 300, 3329, 44483, 4745, 390, 4582, 281, 3329, 15622, 13, 961, 311, 2052, 322, 3133, 320, 293, 574, 412, 300, 13, 51316], 'temperature': 0.0, 'avg_logprob': -0.18593348134862314, 'compression_ratio': 1.8842592592592593, 'no_speech_prob': 0.1311645209789276}, {'id': 19, 'seek': 10592, 'start': 124.96000000000001, 'end': 130.88, 'text': \" It has successfully been installed. Let's click on done. Now you can close out this window. Let's now\", 'tokens': [51316, 467, 575, 10727, 668, 8899, 13, 961, 311, 2052, 322, 1096, 13, 823, 291, 393, 1998, 484, 341, 4910, 13, 961, 311, 586, 51612], 'temperature': 0.0, 'avg_logprob': -0.18593348134862314, 'compression_ratio': 1.8842592592592593, 'no_speech_prob': 0.1311645209789276}, {'id': 20, 'seek': 13088, 'start': 130.88, 'end': 136.72, 'text': ' go back to the top left hand corner, click on the new button again, then go down to more and here you', 'tokens': [50364, 352, 646, 281, 264, 1192, 1411, 1011, 4538, 11, 2052, 322, 264, 777, 2960, 797, 11, 550, 352, 760, 281, 544, 293, 510, 291, 50656], 'temperature': 0.0, 'avg_logprob': -0.1790589377993629, 'compression_ratio': 1.8278388278388278, 'no_speech_prob': 0.16025219857692719}, {'id': 21, 'seek': 13088, 'start': 136.72, 'end': 142.16, 'text': \" should now see an option for Google Collaboratory. Let's click on this one. This drops us into the\", 'tokens': [50656, 820, 586, 536, 364, 3614, 337, 3329, 44483, 4745, 13, 961, 311, 2052, 322, 341, 472, 13, 639, 11438, 505, 666, 264, 50928], 'temperature': 0.0, 'avg_logprob': -0.1790589377993629, 'compression_ratio': 1.8278388278388278, 'no_speech_prob': 0.16025219857692719}, {'id': 22, 'seek': 13088, 'start': 142.16, 'end': 147.68, 'text': ' Google Collaboratory space and at first glance it might look a little bit intimidating, but trust me', 'tokens': [50928, 3329, 44483, 4745, 1901, 293, 412, 700, 21094, 309, 1062, 574, 257, 707, 857, 29714, 11, 457, 3361, 385, 51204], 'temperature': 0.0, 'avg_logprob': -0.1790589377993629, 'compression_ratio': 1.8278388278388278, 'no_speech_prob': 0.16025219857692719}, {'id': 23, 'seek': 13088, 'start': 147.68, 'end': 153.2, 'text': ' this is going to be so easy and the results are going to be so good. In the top left hand corner,', 'tokens': [51204, 341, 307, 516, 281, 312, 370, 1858, 293, 264, 3542, 366, 516, 281, 312, 370, 665, 13, 682, 264, 1192, 1411, 1011, 4538, 11, 51480], 'temperature': 0.0, 'avg_logprob': -0.1790589377993629, 'compression_ratio': 1.8278388278388278, 'no_speech_prob': 0.16025219857692719}, {'id': 24, 'seek': 13088, 'start': 153.2, 'end': 157.44, 'text': \" first off, let's give our file a name. This way you could find your way back to this in the future.\", 'tokens': [51480, 700, 766, 11, 718, 311, 976, 527, 3991, 257, 1315, 13, 639, 636, 291, 727, 915, 428, 636, 646, 281, 341, 294, 264, 2027, 13, 51692], 'temperature': 0.0, 'avg_logprob': -0.1790589377993629, 'compression_ratio': 1.8278388278388278, 'no_speech_prob': 0.16025219857692719}, {'id': 25, 'seek': 15744, 'start': 158.16, 'end': 163.68, 'text': \" I'll click on untitled. Let's double click on that and here I'll type in transcribe audio. Here I'll\", 'tokens': [50400, 286, 603, 2052, 322, 1701, 270, 1493, 13, 961, 311, 3834, 2052, 322, 300, 293, 510, 286, 603, 2010, 294, 1145, 8056, 6278, 13, 1692, 286, 603, 50676], 'temperature': 0.0, 'avg_logprob': -0.16296790627872243, 'compression_ratio': 1.6835443037974684, 'no_speech_prob': 0.008985322900116444}, {'id': 26, 'seek': 15744, 'start': 163.68, 'end': 169.2, 'text': \" click away and that's now the name of the file. Next, let's click on the menu titled runtime and\", 'tokens': [50676, 2052, 1314, 293, 300, 311, 586, 264, 1315, 295, 264, 3991, 13, 3087, 11, 718, 311, 2052, 322, 264, 6510, 19841, 34474, 293, 50952], 'temperature': 0.0, 'avg_logprob': -0.16296790627872243, 'compression_ratio': 1.6835443037974684, 'no_speech_prob': 0.008985322900116444}, {'id': 27, 'seek': 15744, 'start': 169.2, 'end': 174.72, 'text': \" right here there's the option for change runtime type. Let's click on that and that opens up this\", 'tokens': [50952, 558, 510, 456, 311, 264, 3614, 337, 1319, 34474, 2010, 13, 961, 311, 2052, 322, 300, 293, 300, 9870, 493, 341, 51228], 'temperature': 0.0, 'avg_logprob': -0.16296790627872243, 'compression_ratio': 1.6835443037974684, 'no_speech_prob': 0.008985322900116444}, {'id': 28, 'seek': 15744, 'start': 174.72, 'end': 183.36, 'text': ' dialog where we can choose the hardware accelerator. Be sure to select GPU or a graphics card. It turns', 'tokens': [51228, 19308, 689, 321, 393, 2826, 264, 8837, 39889, 13, 879, 988, 281, 3048, 18407, 420, 257, 11837, 2920, 13, 467, 4523, 51660], 'temperature': 0.0, 'avg_logprob': -0.16296790627872243, 'compression_ratio': 1.6835443037974684, 'no_speech_prob': 0.008985322900116444}, {'id': 29, 'seek': 18336, 'start': 183.36, 'end': 189.20000000000002, 'text': \" out that graphics cards run these models extremely well. Next, let's click on save.\", 'tokens': [50364, 484, 300, 11837, 5632, 1190, 613, 5245, 4664, 731, 13, 3087, 11, 718, 311, 2052, 322, 3155, 13, 50656], 'temperature': 0.0, 'avg_logprob': -0.179563006416696, 'compression_ratio': 1.7352941176470589, 'no_speech_prob': 0.040844887495040894}, {'id': 30, 'seek': 18336, 'start': 190.0, 'end': 195.68, 'text': \" Next, we need to install Whisper AI. So let's go up to this field right up above where we can enter\", 'tokens': [50696, 3087, 11, 321, 643, 281, 3625, 41132, 610, 7318, 13, 407, 718, 311, 352, 493, 281, 341, 2519, 558, 493, 3673, 689, 321, 393, 3242, 50980], 'temperature': 0.0, 'avg_logprob': -0.179563006416696, 'compression_ratio': 1.7352941176470589, 'no_speech_prob': 0.040844887495040894}, {'id': 31, 'seek': 18336, 'start': 195.68, 'end': 201.36, 'text': \" in code and here I'll enter this in. You'll find this in the description so you could simply copy\", 'tokens': [50980, 294, 3089, 293, 510, 286, 603, 3242, 341, 294, 13, 509, 603, 915, 341, 294, 264, 3855, 370, 291, 727, 2935, 5055, 51264], 'temperature': 0.0, 'avg_logprob': -0.179563006416696, 'compression_ratio': 1.7352941176470589, 'no_speech_prob': 0.040844887495040894}, {'id': 32, 'seek': 18336, 'start': 201.36, 'end': 206.48000000000002, 'text': \" and paste it from there. First, we're going to install Whisper and we're getting this from\", 'tokens': [51264, 293, 9163, 309, 490, 456, 13, 2386, 11, 321, 434, 516, 281, 3625, 41132, 610, 293, 321, 434, 1242, 341, 490, 51520], 'temperature': 0.0, 'avg_logprob': -0.179563006416696, 'compression_ratio': 1.7352941176470589, 'no_speech_prob': 0.040844887495040894}, {'id': 33, 'seek': 18336, 'start': 206.48000000000002, 'end': 212.48000000000002, 'text': \" GitHub. This is where all of the code is kept and also maintained. Once we get that, we're going to\", 'tokens': [51520, 23331, 13, 639, 307, 689, 439, 295, 264, 3089, 307, 4305, 293, 611, 17578, 13, 3443, 321, 483, 300, 11, 321, 434, 516, 281, 51820], 'temperature': 0.0, 'avg_logprob': -0.179563006416696, 'compression_ratio': 1.7352941176470589, 'no_speech_prob': 0.040844887495040894}, {'id': 34, 'seek': 21248, 'start': 212.48, 'end': 219.12, 'text': ' install something called FFmpeg and this allows us to work with audio and video files. And although', 'tokens': [50364, 3625, 746, 1219, 479, 37, 76, 494, 70, 293, 341, 4045, 505, 281, 589, 365, 6278, 293, 960, 7098, 13, 400, 4878, 50696], 'temperature': 0.0, 'avg_logprob': -0.1840606977959641, 'compression_ratio': 1.6607142857142858, 'no_speech_prob': 0.0034295350778847933}, {'id': 35, 'seek': 21248, 'start': 219.12, 'end': 223.35999999999999, 'text': \" I say we're going to install it, don't worry we're not installing anything on your computer.\", 'tokens': [50696, 286, 584, 321, 434, 516, 281, 3625, 309, 11, 500, 380, 3292, 321, 434, 406, 20762, 1340, 322, 428, 3820, 13, 50908], 'temperature': 0.0, 'avg_logprob': -0.1840606977959641, 'compression_ratio': 1.6607142857142858, 'no_speech_prob': 0.0034295350778847933}, {'id': 36, 'seek': 21248, 'start': 223.35999999999999, 'end': 228.07999999999998, 'text': \" This is installing it all to the Google Collaboratory. Once you're all set, over on the\", 'tokens': [50908, 639, 307, 20762, 309, 439, 281, 264, 3329, 44483, 4745, 13, 3443, 291, 434, 439, 992, 11, 670, 322, 264, 51144], 'temperature': 0.0, 'avg_logprob': -0.1840606977959641, 'compression_ratio': 1.6607142857142858, 'no_speech_prob': 0.0034295350778847933}, {'id': 37, 'seek': 21248, 'start': 228.07999999999998, 'end': 233.67999999999998, 'text': \" left hand side, let's click on this run icon. This will now go through and install Whisper and also\", 'tokens': [51144, 1411, 1011, 1252, 11, 718, 311, 2052, 322, 341, 1190, 6528, 13, 639, 486, 586, 352, 807, 293, 3625, 41132, 610, 293, 611, 51424], 'temperature': 0.0, 'avg_logprob': -0.1840606977959641, 'compression_ratio': 1.6607142857142858, 'no_speech_prob': 0.0034295350778847933}, {'id': 38, 'seek': 21248, 'start': 233.67999999999998, 'end': 239.2, 'text': ' FFmpeg and it looks like the installation finished in about 23 seconds. Not too bad.', 'tokens': [51424, 479, 37, 76, 494, 70, 293, 309, 1542, 411, 264, 13260, 4335, 294, 466, 6673, 3949, 13, 1726, 886, 1578, 13, 51700], 'temperature': 0.0, 'avg_logprob': -0.1840606977959641, 'compression_ratio': 1.6607142857142858, 'no_speech_prob': 0.0034295350778847933}, {'id': 39, 'seek': 23920, 'start': 239.92, 'end': 245.83999999999997, 'text': \" Over on the left hand side, let's click on this folder icon and you can now drag in an audio file\", 'tokens': [50400, 4886, 322, 264, 1411, 1011, 1252, 11, 718, 311, 2052, 322, 341, 10820, 6528, 293, 291, 393, 586, 5286, 294, 364, 6278, 3991, 50696], 'temperature': 0.0, 'avg_logprob': -0.17881376766464085, 'compression_ratio': 1.6778242677824269, 'no_speech_prob': 0.011868646368384361}, {'id': 40, 'seek': 23920, 'start': 245.83999999999997, 'end': 251.92, 'text': \" or a video file that you would like to transcribe. Here I have an mp3 file and I'll simply drop this\", 'tokens': [50696, 420, 257, 960, 3991, 300, 291, 576, 411, 281, 1145, 8056, 13, 1692, 286, 362, 364, 275, 79, 18, 3991, 293, 286, 603, 2935, 3270, 341, 51000], 'temperature': 0.0, 'avg_logprob': -0.17881376766464085, 'compression_ratio': 1.6778242677824269, 'no_speech_prob': 0.011868646368384361}, {'id': 41, 'seek': 23920, 'start': 251.92, 'end': 257.36, 'text': \" in. Here it says that the uploaded files will get deleted when this runtime is recycled. That's okay\", 'tokens': [51000, 294, 13, 1692, 309, 1619, 300, 264, 17135, 7098, 486, 483, 22981, 562, 341, 34474, 307, 30674, 13, 663, 311, 1392, 51272], 'temperature': 0.0, 'avg_logprob': -0.17881376766464085, 'compression_ratio': 1.6778242677824269, 'no_speech_prob': 0.011868646368384361}, {'id': 42, 'seek': 23920, 'start': 257.36, 'end': 263.52, 'text': \" so let's click on okay and now we can see that the file has been successfully uploaded. I'm now ready\", 'tokens': [51272, 370, 718, 311, 2052, 322, 1392, 293, 586, 321, 393, 536, 300, 264, 3991, 575, 668, 10727, 17135, 13, 286, 478, 586, 1919, 51580], 'temperature': 0.0, 'avg_logprob': -0.17881376766464085, 'compression_ratio': 1.6778242677824269, 'no_speech_prob': 0.011868646368384361}, {'id': 43, 'seek': 26352, 'start': 263.52, 'end': 270.08, 'text': \" to extract text from this audio file. Let's go back up to the top and here I'll insert some code.\", 'tokens': [50364, 281, 8947, 2487, 490, 341, 6278, 3991, 13, 961, 311, 352, 646, 493, 281, 264, 1192, 293, 510, 286, 603, 8969, 512, 3089, 13, 50692], 'temperature': 0.0, 'avg_logprob': -0.18503230225806142, 'compression_ratio': 1.7123893805309736, 'no_speech_prob': 0.6405172944068909}, {'id': 44, 'seek': 26352, 'start': 270.08, 'end': 274.79999999999995, 'text': \" This inserts another field down below and here I'll type in whisper. Here this is calling the\", 'tokens': [50692, 639, 49163, 1071, 2519, 760, 2507, 293, 510, 286, 603, 2010, 294, 26018, 13, 1692, 341, 307, 5141, 264, 50928], 'temperature': 0.0, 'avg_logprob': -0.18503230225806142, 'compression_ratio': 1.7123893805309736, 'no_speech_prob': 0.6405172944068909}, {'id': 45, 'seek': 26352, 'start': 274.79999999999995, 'end': 281.44, 'text': ' whisper AI. Then you need to type in the name of the file that you want to extract text from. Mine', 'tokens': [50928, 26018, 7318, 13, 1396, 291, 643, 281, 2010, 294, 264, 1315, 295, 264, 3991, 300, 291, 528, 281, 8947, 2487, 490, 13, 11620, 51260], 'temperature': 0.0, 'avg_logprob': -0.18503230225806142, 'compression_ratio': 1.7123893805309736, 'no_speech_prob': 0.6405172944068909}, {'id': 46, 'seek': 26352, 'start': 281.44, 'end': 288.71999999999997, 'text': \" is called cookies.mp3 so here I'll make sure it says cookies.mp3. And last, you can also specify\", 'tokens': [51260, 307, 1219, 13670, 13, 2455, 18, 370, 510, 286, 603, 652, 988, 309, 1619, 13670, 13, 2455, 18, 13, 400, 1036, 11, 291, 393, 611, 16500, 51624], 'temperature': 0.0, 'avg_logprob': -0.18503230225806142, 'compression_ratio': 1.7123893805309736, 'no_speech_prob': 0.6405172944068909}, {'id': 47, 'seek': 28872, 'start': 288.72, 'end': 294.88000000000005, 'text': ' the model that you would like to use. I want to use the medium model. You have five different', 'tokens': [50364, 264, 2316, 300, 291, 576, 411, 281, 764, 13, 286, 528, 281, 764, 264, 6399, 2316, 13, 509, 362, 1732, 819, 50672], 'temperature': 0.0, 'avg_logprob': -0.1675346066253354, 'compression_ratio': 1.8, 'no_speech_prob': 0.21466974914073944}, {'id': 48, 'seek': 28872, 'start': 294.88000000000005, 'end': 300.48, 'text': ' models that you can choose from. On the low end, you have the tiny model. This takes up the least', 'tokens': [50672, 5245, 300, 291, 393, 2826, 490, 13, 1282, 264, 2295, 917, 11, 291, 362, 264, 5870, 2316, 13, 639, 2516, 493, 264, 1935, 50952], 'temperature': 0.0, 'avg_logprob': -0.1675346066253354, 'compression_ratio': 1.8, 'no_speech_prob': 0.21466974914073944}, {'id': 49, 'seek': 28872, 'start': 300.48, 'end': 307.76000000000005, 'text': ' space. It also works the quickest but you get the worst accuracy. On the other end, you have the', 'tokens': [50952, 1901, 13, 467, 611, 1985, 264, 49403, 457, 291, 483, 264, 5855, 14170, 13, 1282, 264, 661, 917, 11, 291, 362, 264, 51316], 'temperature': 0.0, 'avg_logprob': -0.1675346066253354, 'compression_ratio': 1.8, 'no_speech_prob': 0.21466974914073944}, {'id': 50, 'seek': 28872, 'start': 307.76000000000005, 'end': 313.28000000000003, 'text': ' large model. It takes up about a gig and a half. It also takes the longest time to process but you', 'tokens': [51316, 2416, 2316, 13, 467, 2516, 493, 466, 257, 8741, 293, 257, 1922, 13, 467, 611, 2516, 264, 15438, 565, 281, 1399, 457, 291, 51592], 'temperature': 0.0, 'avg_logprob': -0.1675346066253354, 'compression_ratio': 1.8, 'no_speech_prob': 0.21466974914073944}, {'id': 51, 'seek': 31328, 'start': 313.28, 'end': 319.67999999999995, 'text': ' also get the highest quality level. I found that a good sweet spot is going with the medium model.', 'tokens': [50364, 611, 483, 264, 6343, 3125, 1496, 13, 286, 1352, 300, 257, 665, 3844, 4008, 307, 516, 365, 264, 6399, 2316, 13, 50684], 'temperature': 0.0, 'avg_logprob': -0.16927359501520792, 'compression_ratio': 1.610878661087866, 'no_speech_prob': 0.31065601110458374}, {'id': 52, 'seek': 31328, 'start': 319.67999999999995, 'end': 324.4, 'text': \" Once you finish entering this in, let's click on the run icon and check that out. It has now\", 'tokens': [50684, 3443, 291, 2413, 11104, 341, 294, 11, 718, 311, 2052, 322, 264, 1190, 6528, 293, 1520, 300, 484, 13, 467, 575, 586, 50920], 'temperature': 0.0, 'avg_logprob': -0.16927359501520792, 'compression_ratio': 1.610878661087866, 'no_speech_prob': 0.31065601110458374}, {'id': 53, 'seek': 31328, 'start': 324.4, 'end': 329.59999999999997, 'text': ' finished running and right down here I can see a transcript of everything that was said in this', 'tokens': [50920, 4335, 2614, 293, 558, 760, 510, 286, 393, 536, 257, 24444, 295, 1203, 300, 390, 848, 294, 341, 51180], 'temperature': 0.0, 'avg_logprob': -0.16927359501520792, 'compression_ratio': 1.610878661087866, 'no_speech_prob': 0.31065601110458374}, {'id': 54, 'seek': 31328, 'start': 329.59999999999997, 'end': 335.52, 'text': \" audio file. Also, over on the left hand side, if you don't see these three new files, right up on\", 'tokens': [51180, 6278, 3991, 13, 2743, 11, 670, 322, 264, 1411, 1011, 1252, 11, 498, 291, 500, 380, 536, 613, 1045, 777, 7098, 11, 558, 493, 322, 51476], 'temperature': 0.0, 'avg_logprob': -0.16927359501520792, 'compression_ratio': 1.610878661087866, 'no_speech_prob': 0.31065601110458374}, {'id': 55, 'seek': 33552, 'start': 335.52, 'end': 344.08, 'text': ' top click on the refresh icon and you should see an SRT file, a TXT file, and a VTT file. A text file', 'tokens': [50364, 1192, 2052, 322, 264, 15134, 6528, 293, 291, 820, 536, 364, 20840, 51, 3991, 11, 257, 314, 20542, 3991, 11, 293, 257, 691, 28178, 3991, 13, 316, 2487, 3991, 50792], 'temperature': 0.0, 'avg_logprob': -0.2056301788047508, 'compression_ratio': 1.6923076923076923, 'no_speech_prob': 0.5427563786506653}, {'id': 56, 'seek': 33552, 'start': 344.08, 'end': 350.96, 'text': ' is just all of the text from the audio. SRT and VTT, these are caption formats that also include', 'tokens': [50792, 307, 445, 439, 295, 264, 2487, 490, 264, 6278, 13, 20840, 51, 293, 691, 28178, 11, 613, 366, 31974, 25879, 300, 611, 4090, 51136], 'temperature': 0.0, 'avg_logprob': -0.2056301788047508, 'compression_ratio': 1.6923076923076923, 'no_speech_prob': 0.5427563786506653}, {'id': 57, 'seek': 33552, 'start': 350.96, 'end': 356.4, 'text': ' time stamps so you know what was said when. To download any one of these files, over on the right', 'tokens': [51136, 565, 30800, 370, 291, 458, 437, 390, 848, 562, 13, 1407, 5484, 604, 472, 295, 613, 7098, 11, 670, 322, 264, 558, 51408], 'temperature': 0.0, 'avg_logprob': -0.2056301788047508, 'compression_ratio': 1.6923076923076923, 'no_speech_prob': 0.5427563786506653}, {'id': 58, 'seek': 33552, 'start': 356.4, 'end': 361.76, 'text': \" hand side, click on the ellipsis or the three dot and here you can click on download. I'll download\", 'tokens': [51408, 1011, 1252, 11, 2052, 322, 264, 8284, 2600, 271, 420, 264, 1045, 5893, 293, 510, 291, 393, 2052, 322, 5484, 13, 286, 603, 5484, 51676], 'temperature': 0.0, 'avg_logprob': -0.2056301788047508, 'compression_ratio': 1.6923076923076923, 'no_speech_prob': 0.5427563786506653}, {'id': 59, 'seek': 36176, 'start': 361.76, 'end': 368.96, 'text': \" the SRT file and also the TXT file. Here I'll click on download. Here we can see the TXT file\", 'tokens': [50364, 264, 20840, 51, 3991, 293, 611, 264, 314, 20542, 3991, 13, 1692, 286, 603, 2052, 322, 5484, 13, 1692, 321, 393, 536, 264, 314, 20542, 3991, 50724], 'temperature': 0.0, 'avg_logprob': -0.18069752284458707, 'compression_ratio': 1.5991902834008098, 'no_speech_prob': 0.5038300156593323}, {'id': 60, 'seek': 36176, 'start': 368.96, 'end': 373.76, 'text': ' and the thing I love about using Whisper is first off reading through this, it looks like it did a', 'tokens': [50724, 293, 264, 551, 286, 959, 466, 1228, 41132, 610, 307, 700, 766, 3760, 807, 341, 11, 309, 1542, 411, 309, 630, 257, 50964], 'temperature': 0.0, 'avg_logprob': -0.18069752284458707, 'compression_ratio': 1.5991902834008098, 'no_speech_prob': 0.5038300156593323}, {'id': 61, 'seek': 36176, 'start': 373.76, 'end': 380.08, 'text': ' perfect job transcribing. Also, look at all of this. It applied capitalization. You also get punctuation', 'tokens': [50964, 2176, 1691, 1145, 39541, 13, 2743, 11, 574, 412, 439, 295, 341, 13, 467, 6456, 4238, 2144, 13, 509, 611, 483, 27006, 16073, 51280], 'temperature': 0.0, 'avg_logprob': -0.18069752284458707, 'compression_ratio': 1.5991902834008098, 'no_speech_prob': 0.5038300156593323}, {'id': 62, 'seek': 36176, 'start': 380.08, 'end': 386.32, 'text': \" so this is a very high quality transcript. When I open up the SRT file, here you'll see the exact\", 'tokens': [51280, 370, 341, 307, 257, 588, 1090, 3125, 24444, 13, 1133, 286, 1269, 493, 264, 20840, 51, 3991, 11, 510, 291, 603, 536, 264, 1900, 51592], 'temperature': 0.0, 'avg_logprob': -0.18069752284458707, 'compression_ratio': 1.5991902834008098, 'no_speech_prob': 0.5038300156593323}, {'id': 63, 'seek': 38632, 'start': 386.32, 'end': 393.04, 'text': ' same transcript but it also includes time stamps for when everything is said. To transcribe another', 'tokens': [50364, 912, 24444, 457, 309, 611, 5974, 565, 30800, 337, 562, 1203, 307, 848, 13, 1407, 1145, 8056, 1071, 50700], 'temperature': 0.0, 'avg_logprob': -0.16993354161580404, 'compression_ratio': 1.768888888888889, 'no_speech_prob': 0.5272142291069031}, {'id': 64, 'seek': 38632, 'start': 393.04, 'end': 398.56, 'text': ' file, you can simply drag another audio or video file in and then simply update the name right here', 'tokens': [50700, 3991, 11, 291, 393, 2935, 5286, 1071, 6278, 420, 960, 3991, 294, 293, 550, 2935, 5623, 264, 1315, 558, 510, 50976], 'temperature': 0.0, 'avg_logprob': -0.16993354161580404, 'compression_ratio': 1.768888888888889, 'no_speech_prob': 0.5272142291069031}, {'id': 65, 'seek': 38632, 'start': 398.56, 'end': 404.0, 'text': \" and you can run again and then you'll get another transcript for your next file. To transcribe this\", 'tokens': [50976, 293, 291, 393, 1190, 797, 293, 550, 291, 603, 483, 1071, 24444, 337, 428, 958, 3991, 13, 1407, 1145, 8056, 341, 51248], 'temperature': 0.0, 'avg_logprob': -0.16993354161580404, 'compression_ratio': 1.768888888888889, 'no_speech_prob': 0.5272142291069031}, {'id': 66, 'seek': 38632, 'start': 404.0, 'end': 409.68, 'text': ' file, we just use a very basic command. You also have some additional parameters that you can use.', 'tokens': [51248, 3991, 11, 321, 445, 764, 257, 588, 3875, 5622, 13, 509, 611, 362, 512, 4497, 9834, 300, 291, 393, 764, 13, 51532], 'temperature': 0.0, 'avg_logprob': -0.16993354161580404, 'compression_ratio': 1.768888888888889, 'no_speech_prob': 0.5272142291069031}, {'id': 67, 'seek': 40968, 'start': 410.32, 'end': 416.40000000000003, 'text': \" Right up on top, let's add some more code and right down here, type in whisper-h. You'll also\", 'tokens': [50396, 1779, 493, 322, 1192, 11, 718, 311, 909, 512, 544, 3089, 293, 558, 760, 510, 11, 2010, 294, 26018, 12, 71, 13, 509, 603, 611, 50700], 'temperature': 0.0, 'avg_logprob': -0.1927064798646054, 'compression_ratio': 1.8682170542635659, 'no_speech_prob': 0.13476890325546265}, {'id': 68, 'seek': 40968, 'start': 416.40000000000003, 'end': 421.76, 'text': \" find this in the description and then let's click on run. This opens up all of the available\", 'tokens': [50700, 915, 341, 294, 264, 3855, 293, 550, 718, 311, 2052, 322, 1190, 13, 639, 9870, 493, 439, 295, 264, 2435, 50968], 'temperature': 0.0, 'avg_logprob': -0.1927064798646054, 'compression_ratio': 1.8682170542635659, 'no_speech_prob': 0.13476890325546265}, {'id': 69, 'seek': 40968, 'start': 421.76, 'end': 426.8, 'text': ' parameters. Here, for instance, you can specify where you want to save the output. Here you could', 'tokens': [50968, 9834, 13, 1692, 11, 337, 5197, 11, 291, 393, 16500, 689, 291, 528, 281, 3155, 264, 5598, 13, 1692, 291, 727, 51220], 'temperature': 0.0, 'avg_logprob': -0.1927064798646054, 'compression_ratio': 1.8682170542635659, 'no_speech_prob': 0.13476890325546265}, {'id': 70, 'seek': 40968, 'start': 426.8, 'end': 432.0, 'text': ' also specify whether you want to transcribe a file or whether you also want to translate a file.', 'tokens': [51220, 611, 16500, 1968, 291, 528, 281, 1145, 8056, 257, 3991, 420, 1968, 291, 611, 528, 281, 13799, 257, 3991, 13, 51480], 'temperature': 0.0, 'avg_logprob': -0.1927064798646054, 'compression_ratio': 1.8682170542635659, 'no_speech_prob': 0.13476890325546265}, {'id': 71, 'seek': 40968, 'start': 432.56, 'end': 438.0, 'text': \" Here you could also specify the language and you have many other parameters. If you're not sure what\", 'tokens': [51508, 1692, 291, 727, 611, 16500, 264, 2856, 293, 291, 362, 867, 661, 9834, 13, 759, 291, 434, 406, 988, 437, 51780], 'temperature': 0.0, 'avg_logprob': -0.1927064798646054, 'compression_ratio': 1.8682170542635659, 'no_speech_prob': 0.13476890325546265}, {'id': 72, 'seek': 43800, 'start': 438.0, 'end': 442.64, 'text': \" a parameter does, if you scroll down a little bit, here you'll see a detailed explanation\", 'tokens': [50364, 257, 13075, 775, 11, 498, 291, 11369, 760, 257, 707, 857, 11, 510, 291, 603, 536, 257, 9942, 10835, 50596], 'temperature': 0.0, 'avg_logprob': -0.15819212242409034, 'compression_ratio': 1.606896551724138, 'no_speech_prob': 0.014063212089240551}, {'id': 73, 'seek': 43800, 'start': 442.64, 'end': 448.48, 'text': ' of what every single parameter does. Once you leave Google Collaboratory, your runtime will end', 'tokens': [50596, 295, 437, 633, 2167, 13075, 775, 13, 3443, 291, 1856, 3329, 44483, 4745, 11, 428, 34474, 486, 917, 50888], 'temperature': 0.0, 'avg_logprob': -0.15819212242409034, 'compression_ratio': 1.606896551724138, 'no_speech_prob': 0.014063212089240551}, {'id': 74, 'seek': 43800, 'start': 448.48, 'end': 453.12, 'text': \" and it'll automatically remove all of your files. So if you've transcribed some audio,\", 'tokens': [50888, 293, 309, 603, 6772, 4159, 439, 295, 428, 7098, 13, 407, 498, 291, 600, 1145, 18732, 512, 6278, 11, 51120], 'temperature': 0.0, 'avg_logprob': -0.15819212242409034, 'compression_ratio': 1.606896551724138, 'no_speech_prob': 0.014063212089240551}, {'id': 75, 'seek': 43800, 'start': 453.12, 'end': 459.52, 'text': \" I'd recommend downloading it first before you leave. This is such amazing technology. I personally\", 'tokens': [51120, 286, 1116, 2748, 32529, 309, 700, 949, 291, 1856, 13, 639, 307, 1270, 2243, 2899, 13, 286, 5665, 51440], 'temperature': 0.0, 'avg_logprob': -0.15819212242409034, 'compression_ratio': 1.606896551724138, 'no_speech_prob': 0.014063212089240551}, {'id': 76, 'seek': 43800, 'start': 459.52, 'end': 465.36, 'text': \" use it for all of my YouTube video captions. It does a better job than Google's auto-generated\", 'tokens': [51440, 764, 309, 337, 439, 295, 452, 3088, 960, 44832, 13, 467, 775, 257, 1101, 1691, 813, 3329, 311, 8399, 12, 21848, 770, 51732], 'temperature': 0.0, 'avg_logprob': -0.15819212242409034, 'compression_ratio': 1.606896551724138, 'no_speech_prob': 0.014063212089240551}, {'id': 77, 'seek': 46536, 'start': 465.36, 'end': 470.32, 'text': ' captions because it gets all the words right. It applies capitalization. It takes care of the', 'tokens': [50364, 44832, 570, 309, 2170, 439, 264, 2283, 558, 13, 467, 13165, 4238, 2144, 13, 467, 2516, 1127, 295, 264, 50612], 'temperature': 0.0, 'avg_logprob': -0.22188060384401134, 'compression_ratio': 1.5128205128205128, 'no_speech_prob': 0.009267664514482021}, {'id': 78, 'seek': 46536, 'start': 470.32, 'end': 476.72, 'text': ' punctuation. I just have to go in and make a few very minor tweaks and refinements to get it perfect.', 'tokens': [50612, 27006, 16073, 13, 286, 445, 362, 281, 352, 294, 293, 652, 257, 1326, 588, 6696, 46664, 293, 44395, 6400, 281, 483, 309, 2176, 13, 50932], 'temperature': 0.0, 'avg_logprob': -0.22188060384401134, 'compression_ratio': 1.5128205128205128, 'no_speech_prob': 0.009267664514482021}, {'id': 79, 'seek': 46536, 'start': 478.0, 'end': 483.92, 'text': \" To watch more videos like this one, please consider subscribing and I'll see you in the next video.\", 'tokens': [50996, 1407, 1159, 544, 2145, 411, 341, 472, 11, 1767, 1949, 19981, 293, 286, 603, 536, 291, 294, 264, 958, 960, 13, 51292], 'temperature': 0.0, 'avg_logprob': -0.22188060384401134, 'compression_ratio': 1.5128205128205128, 'no_speech_prob': 0.009267664514482021}, {'id': 80, 'seek': 49536, 'start': 495.36, 'end': 501.36, 'text': ' Bye.', 'tokens': [50364, 4621, 13, 50664], 'temperature': 0.0, 'avg_logprob': -0.9997761726379395, 'compression_ratio': 0.3333333333333333, 'no_speech_prob': 0.9158127903938293}]\n",
            "Formatted result saved to transcribed_text.txt\n"
          ]
        }
      ]
    }
  ]
}